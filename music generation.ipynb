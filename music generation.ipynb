{
 "cells": [
  {
   "cell_type": "code",
   "execution_count": 1,
   "id": "096cb73a-1780-49e0-b7e9-a65cb00fb46e",
   "metadata": {},
   "outputs": [
    {
     "name": "stdout",
     "output_type": "stream",
     "text": [
      "C:\\Users\\ST\\AppData\\Local\\Programs\\Python\\Python310\\python.exe\n"
     ]
    }
   ],
   "source": [
    "import sys\n",
    "print(sys.executable)"
   ]
  },
  {
   "cell_type": "code",
   "execution_count": 1,
   "id": "6b63cc5e-257c-4acf-887f-3d70da970ad9",
   "metadata": {},
   "outputs": [
    {
     "name": "stdout",
     "output_type": "stream",
     "text": [
      "^C\n"
     ]
    }
   ],
   "source": [
    "!pip install tensorflow mido numpy\n"
   ]
  },
  {
   "cell_type": "code",
   "execution_count": null,
   "id": "253630b3-a474-4f50-9ac8-e24fbfae01c5",
   "metadata": {},
   "outputs": [],
   "source": [
    "import sys\n",
    "import glob\n",
    "import mido\n",
    "import numpy as np\n",
    "from tensorflow.keras.models import Sequential\n",
    "from tensorflow.keras.layers import LSTM, Dense, Dropout\n",
    "from tensorflow.keras.callbacks import EarlyStopping\n",
    "\n",
    "# Function to check if the MIDI file is valid\n",
    "def is_valid_midi(file_path):\n",
    "    try:\n",
    "        mido.MidiFile(file_path)  \n",
    "        return True\n",
    "    except:\n",
    "        return False\n",
    "\n",
    "# Function to extract notes from a MIDI file\n",
    "def extract_notes_from_midi(midi_path):\n",
    "    midi_file = mido.MidiFile(midi_path)  \n",
    "    notes = [] \n",
    "    for track in midi_file.tracks:\n",
    "        for msg in track:\n",
    "            if msg.type == 'note_on':  \n",
    "                notes.append(msg.note)  \n",
    "    return notes\n",
    "\n",
    "\n",
    "midi_files = [file for file in glob.glob(\"*.mid\") if is_valid_midi(file)]\n",
    "\n",
    "\n",
    "print(\"Found MIDI files:\", midi_files)\n",
    "\n",
    "\n",
    "all_notes = []  \n",
    "\n",
    "for file in midi_files:\n",
    "    try:\n",
    "        notes = extract_notes_from_midi(file)  # Extract notes\n",
    "        all_notes.extend(notes)  # Append notes to the list\n",
    "    except Exception as e:\n",
    "        print(f\"Skipping {file}: {e}\")  \n",
    "\n",
    "if not all_notes:\n",
    "    print(\"No notes found in the MIDI files. Exiting...\")\n",
    "    sys.exit(1)\n",
    "\n"
   ]
  },
  {
   "cell_type": "code",
   "execution_count": 1,
   "id": "ed0ece64-ebb3-4f1a-9e7d-dff7ec7720eb",
   "metadata": {},
   "outputs": [
    {
     "name": "stdout",
     "output_type": "stream",
     "text": [
      "Found MIDI files: ['Above & Beyond - Sirens of the Sea.mid', 'Aladdin(ArabianNights).mid', 'Andain - Beautiful Things (Guitar).mid', \"Angel Of Death - Angel's Return (Breakdown, Main Part).mid\", 'Auld Lang Syne (Xmas) (Seq Harry Todd) auld_lang_syne_ht.mid', 'avicii-levels.mid', 'BassHunter - Dota.mid', 'basshunter-dota.mid', 'Billie-Jean-(Live-Version).mid', \"BON JOVI.It's my life K.mid\", 'BONEY M.Rasputin K.mid', 'Careless-Whisper-1.mid', \"COOLIO.Gangsta's paradise K.mid\", \"Death Note - L's Theme.mid\", \"Death Note - Light's Theme.mid\", 'Dragonball GT - Dan Dan Hikareteku.mid', 'E-Viva-Espana-1.mid', 'Eminem - Till I Collapse.mid', 'Every breath you take.mid', 'giorno.mid', 'Happy-Birthday-To-You-4.mid', \"I Just Can't Wait To Be King.BSO The Lion King.mid\", 'Kirby Super Star - Gourmet Race.mid', 'korobeiniki.mid', \"Naruto - Kakashi's Theme.mid\", 'Naruto - Naruto Main Theme-Short Version.mid', 'negaraku.mid', 'Never-Gonna-Give-You-Up-3.mid', \"One Piece - Akiisu's Music Box.mid\", 'One Piece - One Piece Medley.mid', 'piano wedding march.mid', \"Pirates of the Caribbean - He's a Pirate (1).mid\", 'Pokemon - Pokemon Center.mid', 'Queen - Bohemian Rhapsody.mid', 'Queen - We Are The Champions.mid', 'THE EAGLES.Hotel California K.mid', 'The Legend of Zelda - Zelda is Rescued Fanfare.mid', 'Tony Iggy - Astronomia.mid', 'TouHou_ the Embodiment of Scarlet Devil - U.N.  Owen was her_.mid', \"Under-The-Sea-(From-'The-Little-Mermaid')-1.mid\", 'youre only lonely L.mid']\n"
     ]
    }
   ],
   "source": [
    "import glob\n",
    "\n",
    "midi_files = glob.glob(\"*.mid\")  # List all .mid files in the directory\n",
    "\n",
    "print(\"Found MIDI files:\", midi_files)  \n"
   ]
  },
  {
   "cell_type": "code",
   "execution_count": 3,
   "id": "2986dcc3-86c3-4c42-9fd5-c04f26db8221",
   "metadata": {},
   "outputs": [
    {
     "name": "stdout",
     "output_type": "stream",
     "text": [
      "[' 230201091_AI_LAB11.ipynb', '(gbfs)lab5.ipynb', '(graph)lab2.ipynb', '(maze)(dfs)lab3.ipynb', '.anaconda', '.android', '.bito', '.conda', '.condarc', '.continuum', '.gitconfig', '.gradle', '.idlerc', '.ipynb_checkpoints', '.ipython', '.jupyter', '.keras', '.matplotlib', '.node_repl_history', '.packettracer', '.quokka', '.virtual_documents', '.vscode', '.wallaby', '230201091 AIlab .ipynb', '230201091 lab 07.ipynb', '230201091_lab09_AI.ipynb', '230201091_lab6.ipynb', '3D Objects', 'Above & Beyond - Sirens of the Sea.mid', 'AI ASSIGNMENT 1.ipynb', 'Aladdin(ArabianNights).mid', 'Andain - Beautiful Things (Guitar).mid', 'AndroidStudioProjects', \"Angel Of Death - Angel's Return (Breakdown, Main Part).mid\", 'AppData', 'Application Data', 'Auld Lang Syne (Xmas) (Seq Harry Todd) auld_lang_syne_ht.mid', 'avicii-levels.mid', 'BassHunter - Dota.mid', 'basshunter-dota.mid', 'Billie-Jean-(Live-Version).mid', \"BON JOVI.It's my life K.mid\", 'BONEY M.Rasputin K.mid', 'Careless-Whisper-1.mid', 'chatbot.ipynb', 'Cisco Packet Tracer 8.2.2', 'Contacts', 'Cookies', \"COOLIO.Gangsta's paradise K.mid\", 'db_connect2.py', \"Death Note - L's Theme.mid\", \"Death Note - Light's Theme.mid\", 'Documents', 'Downloads', 'Dragonball GT - Dan Dan Hikareteku.mid', 'E-Viva-Espana-1.mid', 'Eminem - Till I Collapse.mid', 'Every breath you take.mid', 'Favorites', 'giorno.mid', 'graph.ipynb', 'hafsa230201091.ipynb', 'Happy-Birthday-To-You-4.mid', \"I Just Can't Wait To Be King.BSO The Lion King.mid\", 'insurance.csv', 'insurance[1].csv', 'IntelGraphicsProfiles', 'Kirby Super Star - Gourmet Race.mid', 'korobeiniki.mid', 'lab 10 sigmoid.ipynb', 'Labmid.ipynb', 'lang trans.ipynb', 'lang translator.ipynb', 'Links', 'Local Settings', 'midi_env', 'My Documents', \"Naruto - Kakashi's Theme.mid\", 'Naruto - Naruto Main Theme-Short Version.mid', 'negaraku.mid', 'NetHood', 'Never-Gonna-Give-You-Up-3.mid', 'NTUSER.DAT', 'ntuser.dat.LOG1', 'ntuser.dat.LOG2', 'NTUSER.DAT{53b39e88-18c4-11ea-a811-000d3aa4692b}.TM.blf', 'NTUSER.DAT{53b39e88-18c4-11ea-a811-000d3aa4692b}.TMContainer00000000000000000001.regtrans-ms', 'NTUSER.DAT{53b39e88-18c4-11ea-a811-000d3aa4692b}.TMContainer00000000000000000002.regtrans-ms', 'ntuser.ini', \"One Piece - Akiisu's Music Box.mid\", 'One Piece - One Piece Medley.mid', 'OneDrive', 'PCAppStore', 'piano wedding march.mid', \"Pirates of the Caribbean - He's a Pirate (1).mid\", 'Pokemon - Pokemon Center.mid', 'PrintHood', 'project.ipynb', 'Queen - Bohemian Rhapsody.mid', 'Queen - We Are The Champions.mid', 'Recent', 'Saved Games', 'Searches', 'SendTo', 'Start Menu', 'Templates', 'THE EAGLES.Hotel California K.mid', 'The Legend of Zelda - Zelda is Rescued Fanfare.mid', 'tips.csv', 'Tony Iggy - Astronomia.mid', 'TouHou_ the Embodiment of Scarlet Devil - U.N.  Owen was her_.mid', 'Tracing', \"Under-The-Sea-(From-'The-Little-Mermaid')-1.mid\", 'Untitled.ipynb', 'Untitled1.ipynb', 'Untitled10.ipynb', 'Untitled11.ipynb', 'Untitled12.ipynb', 'Untitled13.ipynb', 'Untitled14.ipynb', 'Untitled15.ipynb', 'Untitled16.ipynb', 'Untitled17.ipynb', 'Untitled18.ipynb', 'Untitled19.ipynb', 'Untitled2.ipynb', 'Untitled20.ipynb', 'Untitled21.ipynb', 'Untitled22.ipynb', 'Untitled23.ipynb', 'Untitled24.ipynb', 'Untitled25.ipynb', 'Untitled26.ipynb', 'Untitled27.ipynb', 'Untitled28.ipynb', 'Untitled29.ipynb', 'Untitled3.ipynb', 'Untitled30.ipynb', 'Untitled31.ipynb', 'Untitled32.ipynb', 'Untitled33.ipynb', 'Untitled34.ipynb', 'Untitled35.ipynb', 'Untitled36.ipynb', 'Untitled37.ipynb', 'Untitled38.ipynb', 'Untitled39.ipynb', 'Untitled4.ipynb', 'Untitled40.ipynb', 'Untitled41.ipynb', 'Untitled5.ipynb', 'Untitled6.ipynb', 'Untitled7.ipynb', 'Untitled8.ipynb', 'Untitled9.ipynb', 'untitleded.ipynb', 'Untitlededdd.ipynb', 'untitledga.ipynb', 'untitledk.ipynb', 'untitledm.ipynb', 'Untitledmir.ipynb', 'untitledmis.ipynb', 'untitledre.ipynb', 'untitledsi.ipynb', 'untitlrdreg.ipynb', 'vaccumcleanerlab4.ipynb', 'youre only lonely L.mid']\n"
     ]
    }
   ],
   "source": [
    "import os\n",
    "print(os.listdir())  # Check available files in the directory\n"
   ]
  },
  {
   "cell_type": "code",
   "execution_count": null,
   "id": "e5d6c855-cf05-4e2f-900a-c93160e5ecef",
   "metadata": {},
   "outputs": [],
   "source": [
    "from tensorflow.keras.models import Sequential\n",
    "from tensorflow.keras.layers import LSTM, Dropout, Dense\n",
    "\n",
    "model = Sequential([\n",
    "    LSTM(256, return_sequences=True, input_shape=(sequence_length, 1)),\n",
    "    Dropout(0.3),\n",
    "    LSTM(256, return_sequences=False),\n",
    "    Dropout(0.3),\n",
    "    Dense(num_features, activation='softmax')\n",
    "])\n"
   ]
  },
  {
   "cell_type": "code",
   "execution_count": null,
   "id": "694ac05a-8e0c-419f-a15c-e35f38f4e404",
   "metadata": {},
   "outputs": [],
   "source": [
    "\n",
    "model.compile(loss='sparse_categorical_crossentropy', optimizer='adam', metrics=['accuracy'])\n"
   ]
  },
  {
   "cell_type": "code",
   "execution_count": null,
   "id": "3fc04fe6-2b28-4d49-9384-27ac17191fd2",
   "metadata": {},
   "outputs": [],
   "source": [
    "# Train the model with fewer epochs\n",
    "history = model.fit(X_train, y_train, epochs=10, batch_size=64)  "
   ]
  },
  {
   "cell_type": "code",
   "execution_count": 1,
   "id": "ff8ff4b7-955d-4dcf-ab96-2bd2c88f943f",
   "metadata": {},
   "outputs": [],
   "source": [
    "# Function to generate music from the trained model\n",
    "def generate_music(model, seed_sequence, num_notes=100):\n",
    "    generated_notes = []  # List to store the generated notes\n",
    "    input_sequence = seed_sequence  \n",
    "\n",
    "    for _ in range(num_notes):\n",
    "        prediction = model.predict(np.expand_dims(input_sequence, axis=0))  \n",
    "        next_note = np.argmax(prediction) \n",
    "        generated_notes.append(index_to_note[next_note])  \n",
    "\n",
    "        \n",
    "        input_sequence = np.roll(input_sequence, -1, axis=0)  \n",
    "        input_sequence[-1] = next_note  \n",
    "\n",
    "    return generated_notes \n"
   ]
  },
  {
   "cell_type": "code",
   "execution_count": null,
   "id": "26278b7f-0f34-408a-8126-a10b0a21546f",
   "metadata": {},
   "outputs": [],
   "source": []
  },
  {
   "cell_type": "code",
   "execution_count": null,
   "id": "079d0edd-aa0c-4d0b-a365-10a37b34588a",
   "metadata": {},
   "outputs": [],
   "source": []
  }
 ],
 "metadata": {
  "kernelspec": {
   "display_name": "Python 3 (ipykernel)",
   "language": "python",
   "name": "python3"
  },
  "language_info": {
   "codemirror_mode": {
    "name": "ipython",
    "version": 3
   },
   "file_extension": ".py",
   "mimetype": "text/x-python",
   "name": "python",
   "nbconvert_exporter": "python",
   "pygments_lexer": "ipython3",
   "version": "3.10.10"
  }
 },
 "nbformat": 4,
 "nbformat_minor": 5
}
